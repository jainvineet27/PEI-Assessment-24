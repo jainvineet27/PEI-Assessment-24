{
 "cells": [
  {
   "cell_type": "code",
   "execution_count": 0,
   "metadata": {
    "application/vnd.databricks.v1+cell": {
     "cellMetadata": {
      "byteLimit": 2048000,
      "rowLimit": 10000
     },
     "inputWidgets": {},
     "nuid": "8f734e10-d4c0-4a5a-a3b8-49b440b7917b",
     "showTitle": false,
     "title": ""
    }
   },
   "outputs": [],
   "source": [
    "from pyspark.sql.functions import * \n",
    "from pyspark.sql.window import *"
   ]
  },
  {
   "cell_type": "code",
   "execution_count": 0,
   "metadata": {
    "application/vnd.databricks.v1+cell": {
     "cellMetadata": {
      "byteLimit": 2048000,
      "rowLimit": 10000
     },
     "collapsed": true,
     "inputWidgets": {},
     "nuid": "1a906e4c-c243-4557-9fcc-7ff6f6dd5257",
     "showTitle": false,
     "title": ""
    }
   },
   "outputs": [
    {
     "output_type": "stream",
     "name": "stdout",
     "output_type": "stream",
     "text": [
      "\u001B[43mNote: you may need to restart the kernel using dbutils.library.restartPython() to use updated packages.\u001B[0m\nCollecting openpyxl\n  Downloading openpyxl-3.1.2-py2.py3-none-any.whl (249 kB)\n     ━━━━━━━━━━━━━━━━━━━━━━━━━━━━━━━━━━━━━ 250.0/250.0 kB 741.4 kB/s eta 0:00:00\nCollecting et-xmlfile\n  Downloading et_xmlfile-1.1.0-py3-none-any.whl (4.7 kB)\nInstalling collected packages: et-xmlfile, openpyxl\nSuccessfully installed et-xmlfile-1.1.0 openpyxl-3.1.2\n\u001B[43mNote: you may need to restart the kernel using dbutils.library.restartPython() to use updated packages.\u001B[0m\n"
     ]
    }
   ],
   "source": [
    "pip install openpyxl"
   ]
  },
  {
   "cell_type": "code",
   "execution_count": 0,
   "metadata": {
    "application/vnd.databricks.v1+cell": {
     "cellMetadata": {
      "byteLimit": 2048000,
      "rowLimit": 10000
     },
     "inputWidgets": {},
     "nuid": "acce722e-ecde-4046-8e6d-15ed661e9ddb",
     "showTitle": false,
     "title": ""
    }
   },
   "outputs": [
    {
     "output_type": "stream",
     "name": "stderr",
     "output_type": "stream",
     "text": [
      "/databricks/spark/python/pyspark/sql/pandas/conversion.py:401: UserWarning: createDataFrame attempted Arrow optimization because 'spark.sql.execution.arrow.pyspark.enabled' is set to true; however, failed by the reason below:\n  Expected bytes, got a 'int' object\nAttempting non-optimization as 'spark.sql.execution.arrow.pyspark.fallback.enabled' is set to true.\n  warn(msg)\n"
     ]
    }
   ],
   "source": [
    "import pandas as pd\n",
    "\n",
    "# Read the Excel file using pandas\n",
    "df = pd.read_excel('/dbfs/FileStore/pei/Customer.xlsx')\n",
    "\n",
    "# Convert pandas DataFrame to PySpark DataFrame\n",
    "customer_df = spark.createDataFrame(df)\n",
    "\n",
    "# Perform further operations on the Spark DataFrame"
   ]
  },
  {
   "cell_type": "code",
   "execution_count": 0,
   "metadata": {
    "application/vnd.databricks.v1+cell": {
     "cellMetadata": {
      "byteLimit": 2048000,
      "rowLimit": 10000
     },
     "inputWidgets": {},
     "nuid": "7fef442b-985e-40cc-874d-b4167775f295",
     "showTitle": false,
     "title": ""
    }
   },
   "outputs": [],
   "source": [
    "customer_df =customer_df.withColumnRenamed('Customer Id','customer_id')\\\n",
    "    .withColumnRenamed('Customer Name','customer_name')\\\n",
    "    .withColumnRenamed('Segment','segment')\\\n",
    "        .withColumnRenamed('Country','country')\\\n",
    "            .withColumnRenamed('City','city')\\\n",
    "                    .withColumnRenamed('State','state')\\\n",
    "                            .withColumnRenamed('Postal Code','postal_code')\\\n",
    "                                .withColumnRenamed('Region','region')\n"
   ]
  },
  {
   "cell_type": "code",
   "execution_count": 0,
   "metadata": {
    "application/vnd.databricks.v1+cell": {
     "cellMetadata": {
      "byteLimit": 2048000,
      "rowLimit": 10000
     },
     "inputWidgets": {},
     "nuid": "609bdd43-b97b-4fd1-9b13-332607cb14fa",
     "showTitle": false,
     "title": ""
    }
   },
   "outputs": [],
   "source": [
    "order_df =spark.read.format('json').option('header',True)\\\n",
    "            .option('inferSchema',True)\\\n",
    "            .option('multiline',True)\\\n",
    "    .load('dbfs:/FileStore/pei/Order.json')"
   ]
  },
  {
   "cell_type": "code",
   "execution_count": 0,
   "metadata": {
    "application/vnd.databricks.v1+cell": {
     "cellMetadata": {
      "byteLimit": 2048000,
      "rowLimit": 10000
     },
     "inputWidgets": {},
     "nuid": "ac2e8937-c4c6-4485-8f74-6a75dc471886",
     "showTitle": false,
     "title": ""
    }
   },
   "outputs": [],
   "source": [
    "product_schema = 'product_id string, category string,sub_category string, product_name string,state string, price_per_product float'\n"
   ]
  },
  {
   "cell_type": "code",
   "execution_count": 0,
   "metadata": {
    "application/vnd.databricks.v1+cell": {
     "cellMetadata": {
      "byteLimit": 2048000,
      "rowLimit": 10000
     },
     "inputWidgets": {},
     "nuid": "edfb48ee-898e-4220-86bb-565c8672f3f9",
     "showTitle": false,
     "title": ""
    }
   },
   "outputs": [],
   "source": [
    "product_df = spark.read\\\n",
    "        .format('csv')\\\n",
    "            .option('header',True)\\\n",
    "                    .schema(product_schema)\\\n",
    "                    .load('dbfs:/FileStore/pei/Product.csv')"
   ]
  },
  {
   "cell_type": "code",
   "execution_count": 0,
   "metadata": {
    "application/vnd.databricks.v1+cell": {
     "cellMetadata": {
      "byteLimit": 2048000,
      "rowLimit": 10000
     },
     "inputWidgets": {},
     "nuid": "a454b2fa-f992-4a79-915e-e646c9f69e9b",
     "showTitle": false,
     "title": ""
    }
   },
   "outputs": [
    {
     "output_type": "stream",
     "name": "stdout",
     "output_type": "stream",
     "text": [
      "+---------------+----------+------------+--------------------+--------+-----------------+\n|     product_id|  category|sub_category|        product_name|   state|price_per_product|\n+---------------+----------+------------+--------------------+--------+-----------------+\n|FUR-CH-10002961| Furniture|      Chairs|Leather Task Chai...|New York|           81.882|\n|TEC-AC-10004659|Technology| Accessories|Imation Secure+ H...|Oklahoma|            72.99|\n+---------------+----------+------------+--------------------+--------+-----------------+\nonly showing top 2 rows\n\n"
     ]
    }
   ],
   "source": [
    "product_df.show(2)"
   ]
  },
  {
   "cell_type": "markdown",
   "metadata": {
    "application/vnd.databricks.v1+cell": {
     "cellMetadata": {
      "byteLimit": 2048000,
      "rowLimit": 10000
     },
     "inputWidgets": {},
     "nuid": "71e5c71f-fd58-4d8c-968d-4124dda4ea17",
     "showTitle": false,
     "title": ""
    }
   },
   "source": [
    "## Source DataFrames \n",
    "### customer_df, order_df , product_df"
   ]
  },
  {
   "cell_type": "code",
   "execution_count": 0,
   "metadata": {
    "application/vnd.databricks.v1+cell": {
     "cellMetadata": {
      "byteLimit": 2048000,
      "rowLimit": 10000
     },
     "inputWidgets": {},
     "nuid": "e297f8a0-f796-466e-ab5d-5ccfbdd58e9e",
     "showTitle": false,
     "title": ""
    }
   },
   "outputs": [],
   "source": [
    "order_df = order_df.withColumnRenamed('Customer ID','customer_id')\\\n",
    "    .withColumnRenamed('Product ID','product_id')\\\n",
    "        .withColumnRenamed('Order Date','order_date')\\\n",
    "        .withColumnRenamed('Discount','discount')\\\n",
    "            .withColumnRenamed('Order ID','order_id')\\\n",
    "                .withColumnRenamed('Profit','profit')\\\n",
    "                    .withColumnRenamed('Quantity','quantity')\\\n",
    "                        .withColumnRenamed('Row ID','row_id')\\\n",
    "                            .withColumnRenamed('Ship Date','ship_date')\\\n",
    "                                .withColumnRenamed('Ship Mode','ship_mode')\\\n",
    "\n",
    "\n",
    "\n"
   ]
  },
  {
   "cell_type": "code",
   "execution_count": 0,
   "metadata": {
    "application/vnd.databricks.v1+cell": {
     "cellMetadata": {
      "byteLimit": 2048000,
      "rowLimit": 10000
     },
     "inputWidgets": {},
     "nuid": "a5ce311b-567d-47ab-ae8c-4a156db8ee19",
     "showTitle": false,
     "title": ""
    }
   },
   "outputs": [
    {
     "output_type": "stream",
     "name": "stdout",
     "output_type": "stream",
     "text": [
      "+-----------+--------+----------+--------------+-------+---------------+-------+--------+------+---------+--------------+\n|customer_id|discount|order_date|      order_id|  Price|     product_id| profit|quantity|row_id|ship_date|     ship_mode|\n+-----------+--------+----------+--------------+-------+---------------+-------+--------+------+---------+--------------+\n|   JK-15370|     0.3| 21/8/2016|CA-2016-122581|573.174|FUR-CH-10002961| 63.686|       7|     1|25/8/2016|Standard Class|\n|   BD-11320|     0.0| 23/9/2017|CA-2017-117485| 291.96|TEC-AC-10004659|102.186|       4|     2|29/9/2017|Standard Class|\n+-----------+--------+----------+--------------+-------+---------------+-------+--------+------+---------+--------------+\nonly showing top 2 rows\n\n"
     ]
    }
   ],
   "source": [
    "order_df.show(2)"
   ]
  },
  {
   "cell_type": "code",
   "execution_count": 0,
   "metadata": {
    "application/vnd.databricks.v1+cell": {
     "cellMetadata": {
      "byteLimit": 2048000,
      "rowLimit": 10000
     },
     "inputWidgets": {},
     "nuid": "53bef926-db38-4333-8bed-fa8beb4f0fcf",
     "showTitle": false,
     "title": ""
    }
   },
   "outputs": [],
   "source": [
    "product_new_Df = product_df.na.drop()"
   ]
  },
  {
   "cell_type": "code",
   "execution_count": 0,
   "metadata": {
    "application/vnd.databricks.v1+cell": {
     "cellMetadata": {
      "byteLimit": 2048000,
      "rowLimit": 10000
     },
     "inputWidgets": {},
     "nuid": "dfda4e23-5cd4-403b-a75c-d3c47ac1400c",
     "showTitle": false,
     "title": ""
    }
   },
   "outputs": [
    {
     "output_type": "stream",
     "name": "stdout",
     "output_type": "stream",
     "text": [
      "Original dataframe has product_df 1851 rows and  after removing null we have  product_new_Df with 1799  rows \n"
     ]
    }
   ],
   "source": [
    "print(f'Original dataframe has product_df {product_df.count()} rows and  after removing null we have  product_new_Df with {product_new_Df.count()}  rows ') \n"
   ]
  },
  {
   "cell_type": "markdown",
   "metadata": {
    "application/vnd.databricks.v1+cell": {
     "cellMetadata": {},
     "inputWidgets": {},
     "nuid": "c7b48ddb-a767-4b17-9c6e-cb47d79ba092",
     "showTitle": false,
     "title": ""
    }
   },
   "source": [
    "Profit rounded to 2 decimal places"
   ]
  },
  {
   "cell_type": "code",
   "execution_count": 0,
   "metadata": {
    "application/vnd.databricks.v1+cell": {
     "cellMetadata": {
      "byteLimit": 2048000,
      "rowLimit": 10000
     },
     "inputWidgets": {},
     "nuid": "f0c29497-abcc-42d9-be4a-580ef186a087",
     "showTitle": false,
     "title": ""
    }
   },
   "outputs": [],
   "source": [
    "date_format='yyyy-MM-dd'\n",
    "order_df= order_df.withColumn('profit', round(col('profit'),2))\\\n",
    "        .withColumn('order_date',trim(col('order_date')))\\\n",
    "            .withColumn('ship_date',trim(col('order_date')))\\\n",
    "\n",
    "        "
   ]
  },
  {
   "cell_type": "code",
   "execution_count": 0,
   "metadata": {
    "application/vnd.databricks.v1+cell": {
     "cellMetadata": {
      "byteLimit": 2048000,
      "rowLimit": 10000
     },
     "inputWidgets": {},
     "nuid": "a7974eac-94ad-431c-a95b-7ae66eb7068e",
     "showTitle": false,
     "title": ""
    }
   },
   "outputs": [
    {
     "output_type": "stream",
     "name": "stdout",
     "output_type": "stream",
     "text": [
      "+-----------+--------+----------+--------------+-------+---------------+------+--------+------+---------+--------------+\n|customer_id|discount|order_date|      order_id|  Price|     product_id|profit|quantity|row_id|ship_date|     ship_mode|\n+-----------+--------+----------+--------------+-------+---------------+------+--------+------+---------+--------------+\n|   JK-15370|     0.3| 21/8/2016|CA-2016-122581|573.174|FUR-CH-10002961| 63.69|       7|     1|21/8/2016|Standard Class|\n|   BD-11320|     0.0| 23/9/2017|CA-2017-117485| 291.96|TEC-AC-10004659|102.19|       4|     2|23/9/2017|Standard Class|\n|   LB-16795|     0.7| 6/10/2016|US-2016-157490|     17|OFF-BI-10002824|-14.92|       4|     3|6/10/2016|   First Class|\n|   KB-16315|     0.2|  2/7/2015|CA-2015-111703| 15.552|OFF-PA-10003349|  5.64|       3|     4| 2/7/2015|Standard Class|\n+-----------+--------+----------+--------------+-------+---------------+------+--------+------+---------+--------------+\nonly showing top 4 rows\n\n"
     ]
    }
   ],
   "source": [
    "order_df.show(4)"
   ]
  },
  {
   "cell_type": "markdown",
   "metadata": {
    "application/vnd.databricks.v1+cell": {
     "cellMetadata": {},
     "inputWidgets": {},
     "nuid": "60a23a4a-cd8f-48d9-bca7-8d888897c23f",
     "showTitle": false,
     "title": ""
    }
   },
   "source": [
    "Enriching customer name \n",
    "Customer name and country\n"
   ]
  },
  {
   "cell_type": "code",
   "execution_count": 0,
   "metadata": {
    "application/vnd.databricks.v1+cell": {
     "cellMetadata": {
      "byteLimit": 2048000,
      "rowLimit": 10000
     },
     "inputWidgets": {},
     "nuid": "6f5d0bbe-23ce-4520-bbdd-c2505d5e5bcc",
     "showTitle": false,
     "title": ""
    }
   },
   "outputs": [
    {
     "output_type": "stream",
     "name": "stdout",
     "output_type": "stream",
     "text": [
      "+-----------+-------------------+--------------------+----------+--------------------+-----------+-------------+----------------+----------+-----------+-------+\n|customer_id|      customer_name|               email|     phone|             address|    segment|      country|            city|     state|postal_code| region|\n+-----------+-------------------+--------------------+----------+--------------------+-----------+-------------+----------------+----------+-----------+-------+\n|   PW-19240|       Pierre Wener|bettysullivan808@...|4215800902|001 Jones Ridges ...|   Consumer|United States|      Louisville|  Colorado|      80027|   West|\n|   GH-14410|     Gary567 Hansen|austindyer948@gma...|0015424150|00347 Murphy Unio...|Home Office|United States|         Chicago|  Illinois|      60653|Central|\n|   KL-16555|      Kelly Lampkin|clarencehughes280...|7185624866|007 Adams Lane Su...|  Corporate|United States|Colorado Springs|  Colorado|      80906|   West|\n|   AH-10075|Ad.       ..am Hart|angelabryant256@g...|2651015569|01454 Christopher...|  Corporate|United States|        Columbus|      Ohio|      43229|   East|\n|   PF-19165|         Philip Fox|kristinereynolds5...|0014736452|0158 Harris Ways ...|   Consumer|United States|       San Diego|California|      92105|   West|\n|   SC-20680|      Steve Carroll|jasoncontreras178...|5636474830|01630 Tammy Prair...|Home Office|United States|         Seattle|Washington|      98105|   West|\n|   AB-10105|      Adrian Barton|daviddavis980@gma...|0674358553|021 Katherine Mal...|   Consumer|United States|         Phoenix|   Arizona|      85023|   West|\n|   PT-19090|   Pete@#$ Takahito|mikaylaarnold666@...|7866386820|0236 Lane Squares...|   Consumer|United States|     San Antonio|     Texas|      78207|Central|\n|   SG-20605|   Speros Goranitis|brianjoyce110@gma...|3528465094|02401 Angela Loop...|   Consumer|United States|       Lafayette|   Indiana|      47905|Central|\n|   MH-17785|        Maya Herman|christinasalas345...|7223765599|026 Colon Hill\\nN...|  Corporate|United States|       San Diego|California|      92105|   West|\n+-----------+-------------------+--------------------+----------+--------------------+-----------+-------------+----------------+----------+-----------+-------+\nonly showing top 10 rows\n\n"
     ]
    }
   ],
   "source": [
    "#customer_df_bkp = customer_df\n",
    "customer_df =customer_df.filter(col('phone') !='#ERROR!').filter(lit(length(col('phone'))>lit(5))).withColumn('phone',regexp_replace('phone','x[0-9]+',''))\\\n",
    "        .withColumn('phone',regexp_replace('phone','[\\\\.\\\\-\\\\(\\\\)]',''))\\\n",
    "            .withColumn('phone',substring(col('phone'),1,10))\n",
    "customer_df.show(10)\n"
   ]
  },
  {
   "cell_type": "code",
   "execution_count": 0,
   "metadata": {
    "application/vnd.databricks.v1+cell": {
     "cellMetadata": {
      "byteLimit": 2048000,
      "rowLimit": 10000
     },
     "inputWidgets": {},
     "nuid": "0941f305-157f-4553-ad20-6ce98412fa6a",
     "showTitle": false,
     "title": ""
    }
   },
   "outputs": [],
   "source": [
    "#from pyspark.sql.functions import * \n",
    "customer_df = customer_df.withColumn('customer_name',trim('customer_name'))\\\n",
    ".withColumn('customer_name',regexp_replace('customer_name','[@.<>#$%^&*]',''))\\\n",
    "    .withColumn('customer_name',regexp_replace('customer_name','^\\\\s+|\\\\s+$',''))\\\n",
    "         .withColumn('customer_name',regexp_replace('customer_name','\\\\s+',' '))\n",
    "\n",
    "      \n",
    "\n",
    "#print(f'old customer_df count is {customer_df.count()} and new customer df count is {new_customer_df.count()}')"
   ]
  },
  {
   "cell_type": "markdown",
   "metadata": {
    "application/vnd.databricks.v1+cell": {
     "cellMetadata": {},
     "inputWidgets": {},
     "nuid": "baf418c9-4412-41f9-bc6a-51789c87c21d",
     "showTitle": false,
     "title": ""
    }
   },
   "source": [
    "Result Set from Question 1 "
   ]
  },
  {
   "cell_type": "code",
   "execution_count": 0,
   "metadata": {
    "application/vnd.databricks.v1+cell": {
     "cellMetadata": {
      "byteLimit": 2048000,
      "rowLimit": 10000
     },
     "inputWidgets": {},
     "nuid": "cf260e68-ab51-454e-b5f4-233752e26ac5",
     "showTitle": false,
     "title": ""
    }
   },
   "outputs": [],
   "source": [
    "problem1_1 = order_df\n",
    "problem1_2 = customer_df.select('customer_name','country')\n",
    "problem1_3=product_new_Df.select('product_name','sub_category')"
   ]
  },
  {
   "cell_type": "code",
   "execution_count": 0,
   "metadata": {
    "application/vnd.databricks.v1+cell": {
     "cellMetadata": {
      "byteLimit": 2048000,
      "rowLimit": 10000
     },
     "inputWidgets": {},
     "nuid": "a200ec25-77f4-47c7-821f-0fdc499aa395",
     "showTitle": false,
     "title": ""
    }
   },
   "outputs": [],
   "source": [
    "order_df.createOrReplaceTempView('orders')"
   ]
  },
  {
   "cell_type": "code",
   "execution_count": 0,
   "metadata": {
    "application/vnd.databricks.v1+cell": {
     "cellMetadata": {
      "byteLimit": 2048000,
      "rowLimit": 10000
     },
     "inputWidgets": {},
     "nuid": "65746af4-93c4-4182-b06e-ed52414fa14c",
     "showTitle": false,
     "title": ""
    }
   },
   "outputs": [],
   "source": [
    "spark.conf.set(\"spark.sql.parquet.int96RebaseModeInWrite\", \"CORRECTED\")\n",
    "spark.conf.set(\"spark.sql.legacy.timeParserPolicy\", \"LEGACY\")"
   ]
  },
  {
   "cell_type": "code",
   "execution_count": 0,
   "metadata": {
    "application/vnd.databricks.v1+cell": {
     "cellMetadata": {
      "byteLimit": 2048000,
      "rowLimit": 10000
     },
     "inputWidgets": {},
     "nuid": "74874983-30a7-4928-899f-f937952e11f8",
     "showTitle": false,
     "title": ""
    }
   },
   "outputs": [],
   "source": [
    "order_df = order_df.withColumn('order_date', to_date('order_date','dd/MM/yyyy'))\\\n",
    "        .withColumn('ship_date',to_date('ship_date','dd/MM/yyyy'))\n"
   ]
  },
  {
   "cell_type": "code",
   "execution_count": 0,
   "metadata": {
    "application/vnd.databricks.v1+cell": {
     "cellMetadata": {
      "byteLimit": 2048000,
      "rowLimit": 10000
     },
     "inputWidgets": {},
     "nuid": "6928bf53-be29-4336-a822-7c64e8d0b4a7",
     "showTitle": false,
     "title": ""
    }
   },
   "outputs": [
    {
     "output_type": "stream",
     "name": "stdout",
     "output_type": "stream",
     "text": [
      "+-----------+--------+----------+--------------+-------+---------------+------+--------+------+----------+--------------+----+\n|customer_id|discount|order_date|      order_id|  Price|     product_id|profit|quantity|row_id| ship_date|     ship_mode|year|\n+-----------+--------+----------+--------------+-------+---------------+------+--------+------+----------+--------------+----+\n|   JK-15370|     0.3|2016-08-21|CA-2016-122581|573.174|FUR-CH-10002961| 63.69|       7|     1|2016-08-21|Standard Class|2016|\n|   BD-11320|     0.0|2017-09-23|CA-2017-117485| 291.96|TEC-AC-10004659|102.19|       4|     2|2017-09-23|Standard Class|2017|\n|   LB-16795|     0.7|2016-10-06|US-2016-157490|     17|OFF-BI-10002824|-14.92|       4|     3|2016-10-06|   First Class|2016|\n|   KB-16315|     0.2|2015-07-02|CA-2015-111703| 15.552|OFF-PA-10003349|  5.64|       3|     4|2015-07-02|Standard Class|2015|\n+-----------+--------+----------+--------------+-------+---------------+------+--------+------+----------+--------------+----+\nonly showing top 4 rows\n\n"
     ]
    }
   ],
   "source": [
    "order_df.show(4)"
   ]
  },
  {
   "cell_type": "markdown",
   "metadata": {
    "application/vnd.databricks.v1+cell": {
     "cellMetadata": {},
     "inputWidgets": {},
     "nuid": "015de687-6e44-4b35-ba9e-9eb24dd6efe9",
     "showTitle": false,
     "title": ""
    }
   },
   "source": [
    "Create an aggregate table that shows profit by\n",
    "\n",
    "Year\n",
    "\n",
    "Product Category\n",
    "\n",
    "Product Sub Category\n",
    "\n",
    "Customer\n"
   ]
  },
  {
   "cell_type": "code",
   "execution_count": 0,
   "metadata": {
    "application/vnd.databricks.v1+cell": {
     "cellMetadata": {
      "byteLimit": 2048000,
      "rowLimit": 10000
     },
     "inputWidgets": {},
     "nuid": "614e0b9b-b4f4-42ab-aa49-98b257a2d1e1",
     "showTitle": false,
     "title": ""
    }
   },
   "outputs": [],
   "source": [
    "order_df = order_df.withColumn('year', year(col('order_date')))\n"
   ]
  },
  {
   "cell_type": "code",
   "execution_count": 0,
   "metadata": {
    "application/vnd.databricks.v1+cell": {
     "cellMetadata": {
      "byteLimit": 2048000,
      "rowLimit": 10000
     },
     "inputWidgets": {},
     "nuid": "92144006-9b54-40a4-91bd-246dd5769b56",
     "showTitle": false,
     "title": ""
    }
   },
   "outputs": [],
   "source": [
    "profit_by_year = order_df.groupBy('year').agg(sum('profit').alias('total'))"
   ]
  },
  {
   "cell_type": "code",
   "execution_count": 0,
   "metadata": {
    "application/vnd.databricks.v1+cell": {
     "cellMetadata": {
      "byteLimit": 2048000,
      "rowLimit": 10000
     },
     "inputWidgets": {},
     "nuid": "4ba1fff9-e9bc-4c11-8e39-e1afa13ca411",
     "showTitle": false,
     "title": ""
    }
   },
   "outputs": [],
   "source": [
    "customer_df= customer_df.withColumnRenamed('customer_id','customer__id')"
   ]
  },
  {
   "cell_type": "code",
   "execution_count": 0,
   "metadata": {
    "application/vnd.databricks.v1+cell": {
     "cellMetadata": {
      "byteLimit": 2048000,
      "rowLimit": 10000
     },
     "inputWidgets": {},
     "nuid": "c8db5da7-1af9-401d-a1b8-67f1d154fb0e",
     "showTitle": false,
     "title": ""
    }
   },
   "outputs": [],
   "source": [
    "merge_df =order_df.join(customer_df ,order_df.customer_id==customer_df.customer__id , how='inner')\\\n",
    "        .join(product_new_Df, on='product_id',how='inner')"
   ]
  },
  {
   "cell_type": "code",
   "execution_count": 0,
   "metadata": {
    "application/vnd.databricks.v1+cell": {
     "cellMetadata": {
      "byteLimit": 2048000,
      "rowLimit": 10000
     },
     "inputWidgets": {},
     "nuid": "802bc07a-ca16-400e-ab49-246da8241dfe",
     "showTitle": false,
     "title": ""
    }
   },
   "outputs": [
    {
     "output_type": "stream",
     "name": "stdout",
     "output_type": "stream",
     "text": [
      "+---------------+------------+\n|       category|cat_wise_sum|\n+---------------+------------+\n|Office Supplies|   114968.33|\n|      Furniture|      3361.5|\n|     Technology|   104157.16|\n+---------------+------------+\n\n"
     ]
    }
   ],
   "source": [
    "merge_df.groupBy('category').agg(round(sum('profit'),2).alias('cat_wise_sum')).show()"
   ]
  },
  {
   "cell_type": "code",
   "execution_count": 0,
   "metadata": {
    "application/vnd.databricks.v1+cell": {
     "cellMetadata": {
      "byteLimit": 2048000,
      "rowLimit": 10000
     },
     "inputWidgets": {},
     "nuid": "527b21b3-605b-4fec-adcc-290d933d1d53",
     "showTitle": false,
     "title": ""
    }
   },
   "outputs": [
    {
     "output_type": "stream",
     "name": "stdout",
     "output_type": "stream",
     "text": [
      "+------------+----------------+\n|sub_category|sub_cat_wise_sum|\n+------------+----------------+\n|   Envelopes|         5107.39|\n|         Art|         5180.91|\n|      Chairs|        21508.91|\n| Furnishings|          129.33|\n|    Supplies|        -1525.05|\n|   Fasteners|          626.88|\n|     Binders|        33692.77|\n|   Bookcases|        -2900.87|\n|      Labels|         4785.94|\n|       Paper|        26986.03|\n| Accessories|        40141.17|\n|     Copiers|        47911.96|\n|      Phones|        38156.26|\n|    Machines|       -22052.23|\n|     Storage|         19891.1|\n|  Appliances|        20222.36|\n|      Tables|       -15375.87|\n+------------+----------------+\n\n"
     ]
    }
   ],
   "source": [
    "merge_df.groupBy('sub_category').agg(round(sum('profit'),2).alias('sub_cat_wise_sum')).show()"
   ]
  },
  {
   "cell_type": "code",
   "execution_count": 0,
   "metadata": {
    "application/vnd.databricks.v1+cell": {
     "cellMetadata": {
      "byteLimit": 2048000,
      "rowLimit": 10000
     },
     "inputWidgets": {},
     "nuid": "c415234e-e706-4db2-a7c2-e7237cea4ae8",
     "showTitle": false,
     "title": ""
    }
   },
   "outputs": [
    {
     "output_type": "stream",
     "name": "stdout",
     "output_type": "stream",
     "text": [
      "+-----------+--------------+\n|customer_id|customerprofit|\n+-----------+--------------+\n|   RR-19315|        -73.83|\n|   SW-20275|        332.76|\n|   PW-19240|       1233.03|\n|   IM-15070|        553.89|\n|   MG-18145|         82.82|\n|   BS-11380|        -21.48|\n|   JK-15370|        384.28|\n|   NB-18655|        117.64|\n|   SS-20515|        210.98|\n|   LL-16840|        560.51|\n|   AB-10105|       5477.85|\n|   AB-10015|        129.68|\n|   GK-14620|       1706.18|\n|   NK-18490|        121.23|\n|   CP-12340|      -1905.17|\n|   SC-20680|        360.97|\n|   KB-16405|        273.86|\n|   MB-17305|        216.37|\n|   CS-12400|       -475.39|\n|   GM-14695|        188.46|\n+-----------+--------------+\nonly showing top 20 rows\n\n"
     ]
    }
   ],
   "source": [
    "merge_df.groupBy('customer_id').agg(round(sum('profit'),2).alias('customerprofit')).show()"
   ]
  },
  {
   "cell_type": "code",
   "execution_count": 0,
   "metadata": {
    "application/vnd.databricks.v1+cell": {
     "cellMetadata": {
      "byteLimit": 2048000,
      "rowLimit": 10000
     },
     "inputWidgets": {},
     "nuid": "1b76dd34-90be-4364-91c1-efa337646cfa",
     "showTitle": false,
     "title": ""
    }
   },
   "outputs": [],
   "source": [
    "merge_df.createOrReplaceTempView('orders')"
   ]
  },
  {
   "cell_type": "code",
   "execution_count": 0,
   "metadata": {
    "application/vnd.databricks.v1+cell": {
     "cellMetadata": {
      "byteLimit": 2048000,
      "rowLimit": 10000
     },
     "inputWidgets": {},
     "nuid": "5c2ee5e8-312f-48d8-b2c1-a0714e7e69ec",
     "showTitle": false,
     "title": ""
    }
   },
   "outputs": [
    {
     "output_type": "stream",
     "name": "stdout",
     "output_type": "stream",
     "text": [
      "+-------------+\n|yearly_profit|\n+-------------+\n|     54881.87|\n|     31832.47|\n|     56005.84|\n|     79766.81|\n+-------------+\n\n"
     ]
    }
   ],
   "source": [
    "spark.sql('select  round(sum(profit),2) as yearly_profit from orders group by  year ').show()"
   ]
  },
  {
   "cell_type": "code",
   "execution_count": 0,
   "metadata": {
    "application/vnd.databricks.v1+cell": {
     "cellMetadata": {
      "byteLimit": 2048000,
      "rowLimit": 10000
     },
     "inputWidgets": {},
     "nuid": "0b79fbcb-f211-45f4-8dd3-bc02b61a289a",
     "showTitle": false,
     "title": ""
    }
   },
   "outputs": [
    {
     "output_type": "stream",
     "name": "stdout",
     "output_type": "stream",
     "text": [
      "+------------+\n|Total_profit|\n+------------+\n|    38321.13|\n|    21136.43|\n|    17953.71|\n|    16070.45|\n|     3491.93|\n|    -6876.42|\n|    39879.49|\n|     1566.19|\n|    30253.51|\n|    22638.44|\n|      5179.8|\n|    32872.33|\n+------------+\n\n"
     ]
    }
   ],
   "source": [
    "spark.sql('select round(sum(profit),2) as Total_profit from orders group by year, category').show()"
   ]
  },
  {
   "cell_type": "code",
   "execution_count": 0,
   "metadata": {
    "application/vnd.databricks.v1+cell": {
     "cellMetadata": {
      "byteLimit": 2048000,
      "rowLimit": 10000
     },
     "inputWidgets": {},
     "nuid": "0fb1b462-5ced-448a-a3b8-3843c415ff02",
     "showTitle": false,
     "title": ""
    }
   },
   "outputs": [
    {
     "output_type": "stream",
     "name": "stdout",
     "output_type": "stream",
     "text": [
      "+---------------+\n|customer_profit|\n+---------------+\n|         -73.83|\n|         332.76|\n|        1233.03|\n|         553.89|\n|          82.82|\n+---------------+\nonly showing top 5 rows\n\n"
     ]
    }
   ],
   "source": [
    "spark.sql('select round(sum(profit),2)  as customer_profit from orders group by customer_id ').show(5)"
   ]
  },
  {
   "cell_type": "code",
   "execution_count": 0,
   "metadata": {
    "application/vnd.databricks.v1+cell": {
     "cellMetadata": {
      "byteLimit": 2048000,
      "rowLimit": 10000
     },
     "inputWidgets": {},
     "nuid": "a98934d6-4492-4d20-b1fe-8c2328065011",
     "showTitle": false,
     "title": ""
    }
   },
   "outputs": [
    {
     "output_type": "stream",
     "name": "stdout",
     "output_type": "stream",
     "text": [
      "+-----------+\n|Totalprofit|\n+-----------+\n|     -23.29|\n|      -6.57|\n|       9.33|\n|     -47.36|\n|    -152.72|\n+-----------+\nonly showing top 5 rows\n\n"
     ]
    }
   ],
   "source": [
    "spark.sql('select round(sum(profit),2) as Totalprofit from orders group by customer_id, year').show(5)"
   ]
  },
  {
   "cell_type": "code",
   "execution_count": 0,
   "metadata": {
    "application/vnd.databricks.v1+cell": {
     "cellMetadata": {},
     "inputWidgets": {},
     "nuid": "72d1388b-6092-4df9-8c6b-55e468b4bfae",
     "showTitle": false,
     "title": ""
    }
   },
   "outputs": [],
   "source": []
  }
 ],
 "metadata": {
  "application/vnd.databricks.v1+notebook": {
   "dashboards": [],
   "language": "python",
   "notebookMetadata": {
    "pythonIndentUnit": 4
   },
   "notebookName": "pei-assessment",
   "widgets": {}
  }
 },
 "nbformat": 4,
 "nbformat_minor": 0
}
